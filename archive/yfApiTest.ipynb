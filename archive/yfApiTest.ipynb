{
 "cells": [
  {
   "cell_type": "code",
   "execution_count": 1,
   "metadata": {},
   "outputs": [],
   "source": [
    "import yfinance as yf\n",
    "import pandas as pd"
   ]
  },
  {
   "cell_type": "code",
   "execution_count": 2,
   "metadata": {},
   "outputs": [],
   "source": [
    "# Set the ticker symbol and the start and end dates\n",
    "symbol = \"ETH-USD\"\n",
    "start_date = \"2021-02-25\"\n",
    "end_date = \"2023-02-18\""
   ]
  },
  {
   "cell_type": "code",
   "execution_count": 3,
   "metadata": {},
   "outputs": [
    {
     "name": "stdout",
     "output_type": "stream",
     "text": [
      "[*********************100%***********************]  1 of 1 completed\n",
      "                                 Close\n",
      "Datetime                              \n",
      "2021-02-25 00:00:00+00:00  1653.057007\n",
      "2021-02-25 01:00:00+00:00  1634.729858\n",
      "2021-02-25 02:00:00+00:00  1633.828491\n",
      "2021-02-25 03:00:00+00:00  1614.386230\n",
      "2021-02-25 04:00:00+00:00  1595.773804\n",
      "...                                ...\n",
      "2023-02-17 19:00:00+00:00  1706.235962\n",
      "2023-02-17 20:00:00+00:00  1708.262939\n",
      "2023-02-17 21:00:00+00:00  1700.483154\n",
      "2023-02-17 22:00:00+00:00  1695.462769\n",
      "2023-02-17 23:00:00+00:00  1695.094727\n",
      "\n",
      "[17123 rows x 1 columns]\n"
     ]
    }
   ],
   "source": [
    "# Get the hourly closing price data from Yahoo Finance\n",
    "data = yf.download(symbol, start=start_date, end=end_date, interval=\"1h\")\n",
    "\n",
    "# Only keep the \"Close\" column\n",
    "close_prices = pd.DataFrame(data[\"Close\"])\n",
    "\n",
    "# Print the resulting DataFrame\n",
    "print(close_prices)"
   ]
  },
  {
   "cell_type": "code",
   "execution_count": 4,
   "metadata": {},
   "outputs": [
    {
     "data": {
      "text/html": [
       "<div>\n",
       "<style scoped>\n",
       "    .dataframe tbody tr th:only-of-type {\n",
       "        vertical-align: middle;\n",
       "    }\n",
       "\n",
       "    .dataframe tbody tr th {\n",
       "        vertical-align: top;\n",
       "    }\n",
       "\n",
       "    .dataframe thead th {\n",
       "        text-align: right;\n",
       "    }\n",
       "</style>\n",
       "<table border=\"1\" class=\"dataframe\">\n",
       "  <thead>\n",
       "    <tr style=\"text-align: right;\">\n",
       "      <th></th>\n",
       "      <th>Close</th>\n",
       "    </tr>\n",
       "    <tr>\n",
       "      <th>Datetime</th>\n",
       "      <th></th>\n",
       "    </tr>\n",
       "  </thead>\n",
       "  <tbody>\n",
       "    <tr>\n",
       "      <th>2023-02-17 19:00:00+00:00</th>\n",
       "      <td>1706.235962</td>\n",
       "    </tr>\n",
       "    <tr>\n",
       "      <th>2023-02-17 20:00:00+00:00</th>\n",
       "      <td>1708.262939</td>\n",
       "    </tr>\n",
       "    <tr>\n",
       "      <th>2023-02-17 21:00:00+00:00</th>\n",
       "      <td>1700.483154</td>\n",
       "    </tr>\n",
       "    <tr>\n",
       "      <th>2023-02-17 22:00:00+00:00</th>\n",
       "      <td>1695.462769</td>\n",
       "    </tr>\n",
       "    <tr>\n",
       "      <th>2023-02-17 23:00:00+00:00</th>\n",
       "      <td>1695.094727</td>\n",
       "    </tr>\n",
       "  </tbody>\n",
       "</table>\n",
       "</div>"
      ],
      "text/plain": [
       "                                 Close\n",
       "Datetime                              \n",
       "2023-02-17 19:00:00+00:00  1706.235962\n",
       "2023-02-17 20:00:00+00:00  1708.262939\n",
       "2023-02-17 21:00:00+00:00  1700.483154\n",
       "2023-02-17 22:00:00+00:00  1695.462769\n",
       "2023-02-17 23:00:00+00:00  1695.094727"
      ]
     },
     "execution_count": 4,
     "metadata": {},
     "output_type": "execute_result"
    }
   ],
   "source": [
    "close_prices.tail()"
   ]
  },
  {
   "cell_type": "code",
   "execution_count": 5,
   "metadata": {},
   "outputs": [
    {
     "data": {
      "text/html": [
       "<div>\n",
       "<style scoped>\n",
       "    .dataframe tbody tr th:only-of-type {\n",
       "        vertical-align: middle;\n",
       "    }\n",
       "\n",
       "    .dataframe tbody tr th {\n",
       "        vertical-align: top;\n",
       "    }\n",
       "\n",
       "    .dataframe thead th {\n",
       "        text-align: right;\n",
       "    }\n",
       "</style>\n",
       "<table border=\"1\" class=\"dataframe\">\n",
       "  <thead>\n",
       "    <tr style=\"text-align: right;\">\n",
       "      <th></th>\n",
       "      <th>close</th>\n",
       "    </tr>\n",
       "    <tr>\n",
       "      <th>Datetime</th>\n",
       "      <th></th>\n",
       "    </tr>\n",
       "  </thead>\n",
       "  <tbody>\n",
       "    <tr>\n",
       "      <th>2023-02-17 19:00:00+00:00</th>\n",
       "      <td>1706.235962</td>\n",
       "    </tr>\n",
       "    <tr>\n",
       "      <th>2023-02-17 20:00:00+00:00</th>\n",
       "      <td>1708.262939</td>\n",
       "    </tr>\n",
       "    <tr>\n",
       "      <th>2023-02-17 21:00:00+00:00</th>\n",
       "      <td>1700.483154</td>\n",
       "    </tr>\n",
       "    <tr>\n",
       "      <th>2023-02-17 22:00:00+00:00</th>\n",
       "      <td>1695.462769</td>\n",
       "    </tr>\n",
       "    <tr>\n",
       "      <th>2023-02-17 23:00:00+00:00</th>\n",
       "      <td>1695.094727</td>\n",
       "    </tr>\n",
       "  </tbody>\n",
       "</table>\n",
       "</div>"
      ],
      "text/plain": [
       "                                 close\n",
       "Datetime                              \n",
       "2023-02-17 19:00:00+00:00  1706.235962\n",
       "2023-02-17 20:00:00+00:00  1708.262939\n",
       "2023-02-17 21:00:00+00:00  1700.483154\n",
       "2023-02-17 22:00:00+00:00  1695.462769\n",
       "2023-02-17 23:00:00+00:00  1695.094727"
      ]
     },
     "execution_count": 5,
     "metadata": {},
     "output_type": "execute_result"
    }
   ],
   "source": [
    "# change the column name to \"close\" to match the rest of the code written earlier \n",
    "close_prices = close_prices.rename(columns={\"Close\": \"close\"})\n",
    "close_prices.tail()"
   ]
  },
  {
   "cell_type": "code",
   "execution_count": 6,
   "metadata": {},
   "outputs": [
    {
     "data": {
      "text/html": [
       "<div>\n",
       "<style scoped>\n",
       "    .dataframe tbody tr th:only-of-type {\n",
       "        vertical-align: middle;\n",
       "    }\n",
       "\n",
       "    .dataframe tbody tr th {\n",
       "        vertical-align: top;\n",
       "    }\n",
       "\n",
       "    .dataframe thead th {\n",
       "        text-align: right;\n",
       "    }\n",
       "</style>\n",
       "<table border=\"1\" class=\"dataframe\">\n",
       "  <thead>\n",
       "    <tr style=\"text-align: right;\">\n",
       "      <th></th>\n",
       "      <th>close</th>\n",
       "    </tr>\n",
       "    <tr>\n",
       "      <th>date</th>\n",
       "      <th></th>\n",
       "    </tr>\n",
       "  </thead>\n",
       "  <tbody>\n",
       "    <tr>\n",
       "      <th>2021-02-25 00:00:00+00:00</th>\n",
       "      <td>1653.057007</td>\n",
       "    </tr>\n",
       "    <tr>\n",
       "      <th>2021-02-25 01:00:00+00:00</th>\n",
       "      <td>1634.729858</td>\n",
       "    </tr>\n",
       "    <tr>\n",
       "      <th>2021-02-25 02:00:00+00:00</th>\n",
       "      <td>1633.828491</td>\n",
       "    </tr>\n",
       "    <tr>\n",
       "      <th>2021-02-25 03:00:00+00:00</th>\n",
       "      <td>1614.386230</td>\n",
       "    </tr>\n",
       "    <tr>\n",
       "      <th>2021-02-25 04:00:00+00:00</th>\n",
       "      <td>1595.773804</td>\n",
       "    </tr>\n",
       "    <tr>\n",
       "      <th>...</th>\n",
       "      <td>...</td>\n",
       "    </tr>\n",
       "    <tr>\n",
       "      <th>2023-02-17 19:00:00+00:00</th>\n",
       "      <td>1706.235962</td>\n",
       "    </tr>\n",
       "    <tr>\n",
       "      <th>2023-02-17 20:00:00+00:00</th>\n",
       "      <td>1708.262939</td>\n",
       "    </tr>\n",
       "    <tr>\n",
       "      <th>2023-02-17 21:00:00+00:00</th>\n",
       "      <td>1700.483154</td>\n",
       "    </tr>\n",
       "    <tr>\n",
       "      <th>2023-02-17 22:00:00+00:00</th>\n",
       "      <td>1695.462769</td>\n",
       "    </tr>\n",
       "    <tr>\n",
       "      <th>2023-02-17 23:00:00+00:00</th>\n",
       "      <td>1695.094727</td>\n",
       "    </tr>\n",
       "  </tbody>\n",
       "</table>\n",
       "<p>17123 rows × 1 columns</p>\n",
       "</div>"
      ],
      "text/plain": [
       "                                 close\n",
       "date                                  \n",
       "2021-02-25 00:00:00+00:00  1653.057007\n",
       "2021-02-25 01:00:00+00:00  1634.729858\n",
       "2021-02-25 02:00:00+00:00  1633.828491\n",
       "2021-02-25 03:00:00+00:00  1614.386230\n",
       "2021-02-25 04:00:00+00:00  1595.773804\n",
       "...                                ...\n",
       "2023-02-17 19:00:00+00:00  1706.235962\n",
       "2023-02-17 20:00:00+00:00  1708.262939\n",
       "2023-02-17 21:00:00+00:00  1700.483154\n",
       "2023-02-17 22:00:00+00:00  1695.462769\n",
       "2023-02-17 23:00:00+00:00  1695.094727\n",
       "\n",
       "[17123 rows x 1 columns]"
      ]
     },
     "execution_count": 6,
     "metadata": {},
     "output_type": "execute_result"
    }
   ],
   "source": [
    "# change the index to a column named \"date\" to match the rest of the code written earlier \n",
    "close_prices.rename_axis('date')"
   ]
  },
  {
   "cell_type": "code",
   "execution_count": 7,
   "metadata": {},
   "outputs": [],
   "source": [
    "close_prices = close_prices.rename_axis('date')"
   ]
  },
  {
   "cell_type": "code",
   "execution_count": 8,
   "metadata": {},
   "outputs": [
    {
     "data": {
      "text/html": [
       "<div>\n",
       "<style scoped>\n",
       "    .dataframe tbody tr th:only-of-type {\n",
       "        vertical-align: middle;\n",
       "    }\n",
       "\n",
       "    .dataframe tbody tr th {\n",
       "        vertical-align: top;\n",
       "    }\n",
       "\n",
       "    .dataframe thead th {\n",
       "        text-align: right;\n",
       "    }\n",
       "</style>\n",
       "<table border=\"1\" class=\"dataframe\">\n",
       "  <thead>\n",
       "    <tr style=\"text-align: right;\">\n",
       "      <th></th>\n",
       "      <th>close</th>\n",
       "    </tr>\n",
       "    <tr>\n",
       "      <th>date</th>\n",
       "      <th></th>\n",
       "    </tr>\n",
       "  </thead>\n",
       "  <tbody>\n",
       "    <tr>\n",
       "      <th>2023-02-17 19:00:00+00:00</th>\n",
       "      <td>1706.235962</td>\n",
       "    </tr>\n",
       "    <tr>\n",
       "      <th>2023-02-17 20:00:00+00:00</th>\n",
       "      <td>1708.262939</td>\n",
       "    </tr>\n",
       "    <tr>\n",
       "      <th>2023-02-17 21:00:00+00:00</th>\n",
       "      <td>1700.483154</td>\n",
       "    </tr>\n",
       "    <tr>\n",
       "      <th>2023-02-17 22:00:00+00:00</th>\n",
       "      <td>1695.462769</td>\n",
       "    </tr>\n",
       "    <tr>\n",
       "      <th>2023-02-17 23:00:00+00:00</th>\n",
       "      <td>1695.094727</td>\n",
       "    </tr>\n",
       "  </tbody>\n",
       "</table>\n",
       "</div>"
      ],
      "text/plain": [
       "                                 close\n",
       "date                                  \n",
       "2023-02-17 19:00:00+00:00  1706.235962\n",
       "2023-02-17 20:00:00+00:00  1708.262939\n",
       "2023-02-17 21:00:00+00:00  1700.483154\n",
       "2023-02-17 22:00:00+00:00  1695.462769\n",
       "2023-02-17 23:00:00+00:00  1695.094727"
      ]
     },
     "execution_count": 8,
     "metadata": {},
     "output_type": "execute_result"
    }
   ],
   "source": [
    "close_prices.tail()"
   ]
  },
  {
   "cell_type": "code",
   "execution_count": 9,
   "metadata": {},
   "outputs": [
    {
     "data": {
      "text/html": [
       "<div>\n",
       "<style scoped>\n",
       "    .dataframe tbody tr th:only-of-type {\n",
       "        vertical-align: middle;\n",
       "    }\n",
       "\n",
       "    .dataframe tbody tr th {\n",
       "        vertical-align: top;\n",
       "    }\n",
       "\n",
       "    .dataframe thead th {\n",
       "        text-align: right;\n",
       "    }\n",
       "</style>\n",
       "<table border=\"1\" class=\"dataframe\">\n",
       "  <thead>\n",
       "    <tr style=\"text-align: right;\">\n",
       "      <th></th>\n",
       "      <th>date</th>\n",
       "      <th>close</th>\n",
       "    </tr>\n",
       "  </thead>\n",
       "  <tbody>\n",
       "    <tr>\n",
       "      <th>17118</th>\n",
       "      <td>2023-02-17 19:00:00</td>\n",
       "      <td>1706.235962</td>\n",
       "    </tr>\n",
       "    <tr>\n",
       "      <th>17119</th>\n",
       "      <td>2023-02-17 20:00:00</td>\n",
       "      <td>1708.262939</td>\n",
       "    </tr>\n",
       "    <tr>\n",
       "      <th>17120</th>\n",
       "      <td>2023-02-17 21:00:00</td>\n",
       "      <td>1700.483154</td>\n",
       "    </tr>\n",
       "    <tr>\n",
       "      <th>17121</th>\n",
       "      <td>2023-02-17 22:00:00</td>\n",
       "      <td>1695.462769</td>\n",
       "    </tr>\n",
       "    <tr>\n",
       "      <th>17122</th>\n",
       "      <td>2023-02-17 23:00:00</td>\n",
       "      <td>1695.094727</td>\n",
       "    </tr>\n",
       "  </tbody>\n",
       "</table>\n",
       "</div>"
      ],
      "text/plain": [
       "                      date        close\n",
       "17118  2023-02-17 19:00:00  1706.235962\n",
       "17119  2023-02-17 20:00:00  1708.262939\n",
       "17120  2023-02-17 21:00:00  1700.483154\n",
       "17121  2023-02-17 22:00:00  1695.462769\n",
       "17122  2023-02-17 23:00:00  1695.094727"
      ]
     },
     "execution_count": 9,
     "metadata": {},
     "output_type": "execute_result"
    }
   ],
   "source": [
    "close_prices = close_prices.reset_index()\n",
    "close_prices['date'] = pd.to_datetime(close_prices['date']).dt.strftime('%Y-%m-%d %H:%M:%S')\n",
    "close_prices.tail()"
   ]
  },
  {
   "cell_type": "code",
   "execution_count": 10,
   "metadata": {},
   "outputs": [
    {
     "data": {
      "text/html": [
       "<div>\n",
       "<style scoped>\n",
       "    .dataframe tbody tr th:only-of-type {\n",
       "        vertical-align: middle;\n",
       "    }\n",
       "\n",
       "    .dataframe tbody tr th {\n",
       "        vertical-align: top;\n",
       "    }\n",
       "\n",
       "    .dataframe thead th {\n",
       "        text-align: right;\n",
       "    }\n",
       "</style>\n",
       "<table border=\"1\" class=\"dataframe\">\n",
       "  <thead>\n",
       "    <tr style=\"text-align: right;\">\n",
       "      <th></th>\n",
       "      <th>date</th>\n",
       "      <th>close</th>\n",
       "    </tr>\n",
       "  </thead>\n",
       "  <tbody>\n",
       "    <tr>\n",
       "      <th>17118</th>\n",
       "      <td>2023-02-17 19:00:00</td>\n",
       "      <td>1706.235962</td>\n",
       "    </tr>\n",
       "    <tr>\n",
       "      <th>17119</th>\n",
       "      <td>2023-02-17 20:00:00</td>\n",
       "      <td>1708.262939</td>\n",
       "    </tr>\n",
       "    <tr>\n",
       "      <th>17120</th>\n",
       "      <td>2023-02-17 21:00:00</td>\n",
       "      <td>1700.483154</td>\n",
       "    </tr>\n",
       "    <tr>\n",
       "      <th>17121</th>\n",
       "      <td>2023-02-17 22:00:00</td>\n",
       "      <td>1695.462769</td>\n",
       "    </tr>\n",
       "    <tr>\n",
       "      <th>17122</th>\n",
       "      <td>2023-02-17 23:00:00</td>\n",
       "      <td>1695.094727</td>\n",
       "    </tr>\n",
       "  </tbody>\n",
       "</table>\n",
       "</div>"
      ],
      "text/plain": [
       "                      date        close\n",
       "17118  2023-02-17 19:00:00  1706.235962\n",
       "17119  2023-02-17 20:00:00  1708.262939\n",
       "17120  2023-02-17 21:00:00  1700.483154\n",
       "17121  2023-02-17 22:00:00  1695.462769\n",
       "17122  2023-02-17 23:00:00  1695.094727"
      ]
     },
     "execution_count": 10,
     "metadata": {},
     "output_type": "execute_result"
    }
   ],
   "source": [
    "close_prices = close_prices.loc[:, ['date', 'close']]\n",
    "close_prices.tail()\n"
   ]
  },
  {
   "cell_type": "code",
   "execution_count": 11,
   "metadata": {},
   "outputs": [
    {
     "data": {
      "text/html": [
       "<div>\n",
       "<style scoped>\n",
       "    .dataframe tbody tr th:only-of-type {\n",
       "        vertical-align: middle;\n",
       "    }\n",
       "\n",
       "    .dataframe tbody tr th {\n",
       "        vertical-align: top;\n",
       "    }\n",
       "\n",
       "    .dataframe thead th {\n",
       "        text-align: right;\n",
       "    }\n",
       "</style>\n",
       "<table border=\"1\" class=\"dataframe\">\n",
       "  <thead>\n",
       "    <tr style=\"text-align: right;\">\n",
       "      <th></th>\n",
       "      <th>close</th>\n",
       "    </tr>\n",
       "    <tr>\n",
       "      <th>date</th>\n",
       "      <th></th>\n",
       "    </tr>\n",
       "  </thead>\n",
       "  <tbody>\n",
       "    <tr>\n",
       "      <th>2023-02-17 19:00:00</th>\n",
       "      <td>1706.235962</td>\n",
       "    </tr>\n",
       "    <tr>\n",
       "      <th>2023-02-17 20:00:00</th>\n",
       "      <td>1708.262939</td>\n",
       "    </tr>\n",
       "    <tr>\n",
       "      <th>2023-02-17 21:00:00</th>\n",
       "      <td>1700.483154</td>\n",
       "    </tr>\n",
       "    <tr>\n",
       "      <th>2023-02-17 22:00:00</th>\n",
       "      <td>1695.462769</td>\n",
       "    </tr>\n",
       "    <tr>\n",
       "      <th>2023-02-17 23:00:00</th>\n",
       "      <td>1695.094727</td>\n",
       "    </tr>\n",
       "  </tbody>\n",
       "</table>\n",
       "</div>"
      ],
      "text/plain": [
       "                           close\n",
       "date                            \n",
       "2023-02-17 19:00:00  1706.235962\n",
       "2023-02-17 20:00:00  1708.262939\n",
       "2023-02-17 21:00:00  1700.483154\n",
       "2023-02-17 22:00:00  1695.462769\n",
       "2023-02-17 23:00:00  1695.094727"
      ]
     },
     "execution_count": 11,
     "metadata": {},
     "output_type": "execute_result"
    }
   ],
   "source": [
    "close_prices = close_prices.set_index('date')\n",
    "close_prices.tail()"
   ]
  }
 ],
 "metadata": {
  "kernelspec": {
   "display_name": "blockchain_dev",
   "language": "python",
   "name": "python3"
  },
  "language_info": {
   "codemirror_mode": {
    "name": "ipython",
    "version": 3
   },
   "file_extension": ".py",
   "mimetype": "text/x-python",
   "name": "python",
   "nbconvert_exporter": "python",
   "pygments_lexer": "ipython3",
   "version": "3.7.11"
  },
  "orig_nbformat": 4,
  "vscode": {
   "interpreter": {
    "hash": "967a4224f964ba27812ba145d3e8daf55de242a4a83b38e28c02365eed51f7d0"
   }
  }
 },
 "nbformat": 4,
 "nbformat_minor": 2
}
